{
 "cells": [
  {
   "cell_type": "markdown",
   "id": "c05019a9",
   "metadata": {},
   "source": [
    "# Scrapping Russia-Ukraine war-related tweets using snscrape"
   ]
  },
  {
   "cell_type": "markdown",
   "id": "0c24dee2",
   "metadata": {},
   "source": [
    "## Hastags used for scraping----"
   ]
  },
  {
   "cell_type": "markdown",
   "id": "e7377795",
   "metadata": {},
   "source": [
    "### 1.'#UkraineUnderAttaсk'\n",
    "### 2.'#UkraineRussiaWar'\n",
    "### 3.'#RussiaUkraineConflict'\n",
    "### 4.'#RussianUkrainianWar'\n",
    "### 5.'#ukrainerussia'\n",
    "### 6.'#WorldWar3'\n",
    "### 7.'#RussiaVsUkraine'"
   ]
  },
  {
   "cell_type": "code",
   "execution_count": null,
   "id": "510d6283",
   "metadata": {},
   "outputs": [],
   "source": [
    "import tweepy\n",
    "import configparser\n",
    "import pandas as pd\n",
    "\n",
    "\n",
    "# read configs\n",
    "config = configparser.ConfigParser()\n",
    "config.read('config.ini')\n",
    "\n",
    "api_key = config['twitter']['api_key']\n",
    "api_key_secret = config['twitter']['api_key_secret']\n",
    "\n",
    "access_token = config['twitter']['access_token']\n",
    "access_token_secret = config['twitter']['access_token_secret']\n",
    "\n",
    "# authentication\n",
    "auth = tweepy.OAuthHandler(api_key, api_key_secret)\n",
    "auth.set_access_token(access_token, access_token_secret)\n",
    "\n",
    "api = tweepy.API(auth)\n",
    "\n",
    "\n",
    "class Linstener(tweepy.Stream):\n",
    "\n",
    "    tweets = []\n",
    "    limit = 1\n",
    "\n",
    "    def on_status(self, status):\n",
    "        self.tweets.append(status)\n",
    "        # print(status.user.screen_name + \": \" + status.text)\n",
    "\n",
    "        if len(self.tweets) == self.limit:\n",
    "            self.disconnect()\n",
    "\n",
    "\n",
    "\n",
    "\n",
    "\n",
    "stream_tweet = Linstener(api_key, api_key_secret, access_token, access_token_secret)\n",
    "\n",
    "# stream by keywords\n",
    "# keywords = ['2022', '#python']\n",
    "\n",
    "# stream_tweet.filter(track=keywords)\n",
    "\n",
    "# stream by users\n",
    "users = ['MehranShakarami', 'veritasium']\n",
    "user_ids = []\n",
    "\n",
    "for user in users:\n",
    "    user_ids.append(api.get_user(screen_name=user).id)\n",
    "\n",
    "stream_tweet.filter(follow=user_ids)\n",
    "\n",
    "# create DataFrame\n",
    "\n",
    "columns = ['User', 'Tweet']\n",
    "data = []\n",
    "\n",
    "for tweet in stream_tweet.tweets:\n",
    "    if not tweet.truncated:\n",
    "        data.append([tweet.user.screen_name, tweet.text])\n",
    "    else:\n",
    "        data.append([tweet.user.screen_name, tweet.extended_tweet['full_text']])\n",
    "\n",
    "df = pd.DataFrame(data, columns=columns)\n",
    "\n",
    "print(df)"
   ]
  },
  {
   "cell_type": "markdown",
   "id": "33f20abb",
   "metadata": {},
   "source": [
    "### Criteria for searching tweets\n",
    "#### Language : English\n",
    "#### Minimum likes : 20\n",
    "#### Minimun retweets : 5\n",
    "#### Time period : After 24.02.2022\n",
    "#### Excluded : replies, retweets"
   ]
  },
  {
   "cell_type": "code",
   "execution_count": 16,
   "id": "e705351e",
   "metadata": {},
   "outputs": [],
   "source": [
    "# List of hashtags used\n",
    "search_words = ['#UkraineUnderAttaсk', '#UkraineRussiaWar', '#RussiaUkraineConflict', \"#RussianUkrainianWar\", \"#ukrainerussia\",\n",
    "            \"#WorldWar3\", \"#RussiaVsUkraine\"]"
   ]
  },
  {
   "cell_type": "code",
   "execution_count": null,
   "id": "26b784b5",
   "metadata": {},
   "outputs": [],
   "source": []
  }
 ],
 "metadata": {
  "kernelspec": {
   "display_name": "Python 3 (ipykernel)",
   "language": "python",
   "name": "python3"
  },
  "language_info": {
   "codemirror_mode": {
    "name": "ipython",
    "version": 3
   },
   "file_extension": ".py",
   "mimetype": "text/x-python",
   "name": "python",
   "nbconvert_exporter": "python",
   "pygments_lexer": "ipython3",
   "version": "3.9.13"
  }
 },
 "nbformat": 4,
 "nbformat_minor": 5
}
